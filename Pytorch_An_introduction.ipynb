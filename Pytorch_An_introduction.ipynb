{
  "nbformat": 4,
  "nbformat_minor": 0,
  "metadata": {
    "colab": {
      "provenance": [],
      "authorship_tag": "ABX9TyNShdqfYdPU+Qys2xWKF9TT",
      "include_colab_link": true
    },
    "kernelspec": {
      "name": "python3",
      "display_name": "Python 3"
    },
    "language_info": {
      "name": "python"
    }
  },
  "cells": [
    {
      "cell_type": "markdown",
      "metadata": {
        "id": "view-in-github",
        "colab_type": "text"
      },
      "source": [
        "<a href=\"https://colab.research.google.com/github/franciskyalo/Pytorch-Learning/blob/main/Pytorch_An_introduction.ipynb\" target=\"_parent\"><img src=\"https://colab.research.google.com/assets/colab-badge.svg\" alt=\"Open In Colab\"/></a>"
      ]
    },
    {
      "cell_type": "markdown",
      "source": [
        "\n",
        "\n",
        "# An Introduction to Pytorch\n"
      ],
      "metadata": {
        "id": "OoxR__sO_eez"
      }
    },
    {
      "cell_type": "markdown",
      "source": [
        "PyTorch is an open-source machine learning framework primarily used for deep learning applications. It has gained popularity for its flexibility, dynamic computation graph, and user-friendly interface. Here's a brief history of PyTorch:\n",
        "\n",
        "### Origins\n",
        "- **2016**: PyTorch was developed by the **Artificial Intelligence Research Group (FAIR)** at Facebook. It was built on the foundation of **Torch**, a machine learning library written in Lua, which had been widely used in academic research but lacked adoption in the broader industry.\n",
        "\n",
        "- **Key Contributors**:\n",
        "  - **Adam Paszke** and other researchers from FAIR played significant roles in its development.\n",
        "  - It incorporated many modern design principles to make it more accessible and flexible compared to Torch.\n",
        "\n",
        "### Early Features\n",
        "- PyTorch introduced a **dynamic computation graph**, allowing developers to modify the model architecture during runtime. This was a significant departure from static graph frameworks like TensorFlow 1.x, making it especially appealing to researchers.\n",
        "\n",
        "- PyTorch was designed with a focus on Python, making it intuitive and easy to integrate with Python’s rich ecosystem of libraries.\n",
        "\n",
        "### Adoption and Growth\n",
        "- By **2017**, PyTorch began gaining traction among researchers, thanks to its ease of use, dynamic nature, and robust community support.\n",
        "\n",
        "- It became a favorite in academic research, where experimentation and model iteration are frequent.\n",
        "\n",
        "### Key Milestones\n",
        "1. **2018**:\n",
        "   - **PyTorch 1.0**: Facebook merged PyTorch with another of its frameworks, **Caffe2**, to combine research flexibility with production capabilities.\n",
        "   - This version included improved support for deploying models in production environments.\n",
        "\n",
        "2. **2019**:\n",
        "   - PyTorch introduced **TorchScript**, enabling the export of models to a statically defined computational graph for optimized deployment.\n",
        "   - It became the framework of choice for many prestigious conferences and competitions in the deep learning community.\n",
        "\n",
        "3. **2020**:\n",
        "   - PyTorch released support for **distributed training** and **hardware accelerators** like TPUs.\n",
        "   - It was increasingly adopted by industry leaders like Tesla, Microsoft, and Uber for real-world applications.\n",
        "\n",
        "4. **2021-2023**:\n",
        "   - PyTorch grew its ecosystem with libraries like **TorchVision** (for computer vision), **TorchText** (for natural language processing), and **TorchAudio** (for audio processing).\n",
        "   - It introduced advanced features like **torch.compile** (dynamic compilation for performance optimization).\n",
        "\n",
        "5. **2022**:\n",
        "   - Facebook rebranded as Meta, reaffirming its commitment to PyTorch by transferring the framework to the **PyTorch Foundation**, part of the Linux Foundation. This ensured that PyTorch would remain community-driven and open-source.\n",
        "\n",
        "6. **2023 and Beyond**:\n",
        "   - PyTorch continues to innovate with improvements in scalability, support for large models (e.g., Transformers), and integration with tools for reinforcement learning, generative AI, and more.\n",
        "\n",
        "### Impact\n",
        "- PyTorch has played a crucial role in democratizing deep learning by providing an accessible yet powerful platform for both researchers and practitioners.\n",
        "- It remains one of the most widely used frameworks in academia and industry, competing closely with TensorFlow.\n",
        "\n",
        "PyTorch's emphasis on flexibility, coupled with its growing ecosystem and robust community support, has solidified its position as a cornerstone of modern AI and deep learning."
      ],
      "metadata": {
        "id": "irw06-O6BFG7"
      }
    },
    {
      "cell_type": "markdown",
      "source": [
        "#Introduction to Tensors"
      ],
      "metadata": {
        "id": "VE_qCy7LB9j1"
      }
    },
    {
      "cell_type": "markdown",
      "source": [
        "A **tensor** is a multi-dimensional array or matrix used to represent data in deep learning and other numerical computations. Tensors generalize vectors and matrices to higher dimensions, making them highly versatile for handling complex datasets and computations in neural networks.\n",
        "\n",
        "### Key Characteristics of Tensors\n",
        "1. **Dimensionality**:\n",
        "   - A **scalar** is a tensor with zero dimensions (e.g., \\(5\\)).\n",
        "   - A **vector** is a 1-dimensional tensor (e.g., \\([1, 2, 3]\\)).\n",
        "   - A **matrix** is a 2-dimensional tensor (e.g., \\(\\begin{bmatrix} 1 & 2 \\\\ 3 & 4 \\end{bmatrix}\\)).\n",
        "   - Higher-dimensional tensors are often referred to as n-dimensional tensors.\n",
        "\n",
        "2. **Shape**:\n",
        "   The shape of a tensor indicates the number of elements along each dimension. For example:\n",
        "   - A 1D tensor with 3 elements: `(3,)`.\n",
        "   - A 2D tensor with 2 rows and 3 columns: `(2, 3)`.\n",
        "   - A 3D tensor, e.g., representing a batch of images: `(batch_size, height, width)`.\n",
        "\n",
        "3. **Data Types**:\n",
        "   Tensors can hold various data types like integers, floating-point numbers, or even Boolean values. The data type must be specified when defining the tensor.\n",
        "\n",
        "4. **Operations**:\n",
        "   Tensors are the building blocks of deep learning models. They support various operations such as addition, multiplication, reshaping, slicing, and more. These operations are highly optimized for GPUs and other accelerators.\n",
        "\n",
        "### Importance in Deep Learning\n",
        "- **Data Representation**:\n",
        "  Tensors are used to represent all forms of input data (e.g., images, text, audio).\n",
        "  - Images: Stored as 3D tensors (`[height, width, channels]`).\n",
        "  - Text: Represented as sequences or embeddings in tensors.\n",
        "  - Video: Stored as 4D tensors (`[frames, height, width, channels]`).\n",
        "\n",
        "- **Model Parameters**:\n",
        "  The weights and biases in neural networks are stored as tensors.\n",
        "\n",
        "- **Parallel Computation**:\n",
        "  Frameworks like PyTorch and TensorFlow use tensors to perform computations efficiently on GPUs and TPUs.\n",
        "\n",
        "### Example in PyTorch\n",
        "```python\n",
        "import torch\n",
        "\n",
        "# Scalar\n",
        "scalar = torch.tensor(5)\n",
        "print(scalar.shape)  # Output: torch.Size([])\n",
        "\n",
        "# Vector\n",
        "vector = torch.tensor([1, 2, 3])\n",
        "print(vector.shape)  # Output: torch.Size([3])\n",
        "\n",
        "# Matrix\n",
        "matrix = torch.tensor([[1, 2], [3, 4]])\n",
        "print(matrix.shape)  # Output: torch.Size([2, 2])\n",
        "\n",
        "# 3D Tensor\n",
        "tensor_3d = torch.randn(3, 3, 3)  # Random 3x3x3 tensor\n",
        "print(tensor_3d.shape)  # Output: torch.Size([3, 3, 3])\n",
        "```\n",
        "\n",
        "Tensors are foundational in deep learning, enabling the storage and manipulation of data and parameters in neural networks."
      ],
      "metadata": {
        "id": "mdCmujNG__gC"
      }
    },
    {
      "cell_type": "markdown",
      "source": [
        "# Writing Pytorch Code"
      ],
      "metadata": {
        "id": "h-Mh25b9H2do"
      }
    },
    {
      "cell_type": "markdown",
      "source": [
        "### Introduction to Pytorch Tensors"
      ],
      "metadata": {
        "id": "ElpT94TSJQ7g"
      }
    },
    {
      "cell_type": "markdown",
      "source": [
        "In PyTorch, tensors are versatile data structures that support various data types and functionalities. While all PyTorch tensors are fundamentally the same type, their behavior can differ based on their **data type**, **device**, **dimensionality**, or **special purpose**. Here are the main classifications:\n",
        "\n",
        "---\n",
        "\n",
        "### **1. Based on Dimensionality**\n",
        "- **Scalar Tensor**: A zero-dimensional tensor, representing a single number.\n",
        "  ```python\n",
        "  scalar = torch.tensor(5)\n",
        "  print(scalar.dim())  # Output: 0\n",
        "  ```\n",
        "\n",
        "- **Vector Tensor**: A one-dimensional tensor, representing a list of numbers.\n",
        "  ```python\n",
        "  vector = torch.tensor([1, 2, 3])\n",
        "  print(vector.dim())  # Output: 1\n",
        "  ```\n",
        "\n",
        "- **Matrix Tensor**: A two-dimensional tensor, representing a grid of numbers.\n",
        "  ```python\n",
        "  matrix = torch.tensor([[1, 2], [3, 4]])\n",
        "  print(matrix.dim())  # Output: 2\n",
        "  ```\n",
        "\n",
        "- **Higher-Dimensional Tensor**: Tensors with three or more dimensions, used for more complex data.\n",
        "  ```python\n",
        "  tensor_3d = torch.rand(3, 4, 5)  # 3D tensor\n",
        "  tensor_4d = torch.rand(2, 3, 4, 5)  # 4D tensor\n",
        "  ```\n",
        "\n",
        "---\n",
        "\n",
        "### **2. Based on Data Type**\n",
        "PyTorch tensors can hold different types of data. Common types include:\n",
        "- **Float Tensors** (default): `torch.float32`\n",
        "  ```python\n",
        "  tensor = torch.tensor([1.0, 2.0], dtype=torch.float32)\n",
        "  ```\n",
        "\n",
        "- **Double Tensors**: `torch.float64`\n",
        "  ```python\n",
        "  tensor = torch.tensor([1.0, 2.0], dtype=torch.float64)\n",
        "  ```\n",
        "\n",
        "- **Integer Tensors**:\n",
        "  - `torch.int32` or `torch.int64`\n",
        "  ```python\n",
        "  tensor = torch.tensor([1, 2], dtype=torch.int32)\n",
        "  ```\n",
        "\n",
        "- **Boolean Tensors**: `torch.bool`\n",
        "  ```python\n",
        "  tensor = torch.tensor([True, False], dtype=torch.bool)\n",
        "  ```\n",
        "\n",
        "- **Complex Tensors**: `torch.complex64` or `torch.complex128`\n",
        "  ```python\n",
        "  tensor = torch.tensor([1+2j, 3+4j], dtype=torch.complex64)\n",
        "  ```\n",
        "\n",
        "---\n",
        "\n",
        "### **3. Based on Device**\n",
        "Tensors can reside on different devices:\n",
        "- **CPU Tensors**: The default device.\n",
        "  ```python\n",
        "  tensor = torch.tensor([1, 2, 3])\n",
        "  ```\n",
        "\n",
        "- **GPU Tensors**: Leveraging CUDA for faster computation.\n",
        "  ```python\n",
        "  tensor = torch.tensor([1, 2, 3], device='cuda')\n",
        "  ```\n",
        "\n",
        "- **TPU Tensors**: For advanced hardware accelerators (requires libraries like PyTorch XLA).\n",
        "\n",
        "---\n",
        "\n",
        "### **4. Based on Gradient Computation**\n",
        "- **Regular Tensor**: No gradient tracking.\n",
        "  ```python\n",
        "  tensor = torch.tensor([1.0, 2.0])\n",
        "  ```\n",
        "\n",
        "- **Tensor with Gradients**: Used for automatic differentiation in models.\n",
        "  ```python\n",
        "  tensor = torch.tensor([1.0, 2.0], requires_grad=True)\n",
        "  ```\n",
        "\n",
        "---\n",
        "\n",
        "### **5. Special Tensors**\n",
        "- **Sparse Tensors**: Efficient storage for tensors with mostly zero values.\n",
        "  ```python\n",
        "  indices = torch.tensor([[0, 1], [1, 2]])\n",
        "  values = torch.tensor([3, 4])\n",
        "  sparse_tensor = torch.sparse_coo_tensor(indices, values, [2, 3])\n",
        "  ```\n",
        "\n",
        "- **Quantized Tensors**: Reduced precision for memory-efficient inference.\n",
        "  ```python\n",
        "  tensor = torch.quantize_per_tensor(torch.tensor([1.0, 2.0]), scale=0.1, zero_point=0, dtype=torch.qint8)\n",
        "  ```\n",
        "\n",
        "- **Complex Tensors**: For working with complex numbers.\n",
        "  ```python\n",
        "  tensor = torch.tensor([1+2j, 3+4j])\n",
        "  ```\n",
        "\n",
        "- **Custom Tensors**: You can define custom tensors by extending the PyTorch library.\n",
        "\n",
        "---\n",
        "\n",
        "### Summary Table\n",
        "\n",
        "| **Classification** | **Example**                                                                 |\n",
        "|---------------------|-----------------------------------------------------------------------------|\n",
        "| Dimensionality      | Scalar, Vector, Matrix, Higher-dimensional tensors                         |\n",
        "| Data Type           | Float, Integer, Boolean, Complex                                           |\n",
        "| Device              | CPU, GPU, TPU                                                             |\n",
        "| Gradients           | Regular tensors, Tensors with `requires_grad=True`                        |\n",
        "| Special Tensors     | Sparse tensors, Quantized tensors, Complex tensors                        |\n",
        "\n",
        "\n"
      ],
      "metadata": {
        "id": "m1_1KShUJXRF"
      }
    },
    {
      "cell_type": "code",
      "execution_count": 1,
      "metadata": {
        "id": "UgEEPd6BaN4B",
        "colab": {
          "base_uri": "https://localhost:8080/"
        },
        "outputId": "1eda06b1-5190-4456-fcdc-390fb58716ce"
      },
      "outputs": [
        {
          "output_type": "stream",
          "name": "stdout",
          "text": [
            "2.5.1+cu121\n"
          ]
        }
      ],
      "source": [
        "import torch\n",
        "import pandas as pd\n",
        "import numpy as np\n",
        "import matplotlib.pyplot as plt\n",
        "print(torch.__version__)"
      ]
    },
    {
      "cell_type": "code",
      "source": [
        "scaler = torch.tensor(8)\n",
        "scaler"
      ],
      "metadata": {
        "colab": {
          "base_uri": "https://localhost:8080/"
        },
        "id": "y7AxqrSO-l8U",
        "outputId": "8cf967b3-9e40-4ccf-cf75-92b305c7547f"
      },
      "execution_count": 2,
      "outputs": [
        {
          "output_type": "execute_result",
          "data": {
            "text/plain": [
              "tensor(8)"
            ]
          },
          "metadata": {},
          "execution_count": 2
        }
      ]
    },
    {
      "cell_type": "code",
      "source": [
        "scaler.ndim"
      ],
      "metadata": {
        "colab": {
          "base_uri": "https://localhost:8080/"
        },
        "id": "KLbAGYyhKNnS",
        "outputId": "389ac17d-208a-49ec-8da8-1514bf9bd56f"
      },
      "execution_count": 3,
      "outputs": [
        {
          "output_type": "execute_result",
          "data": {
            "text/plain": [
              "0"
            ]
          },
          "metadata": {},
          "execution_count": 3
        }
      ]
    },
    {
      "cell_type": "code",
      "source": [
        "scaler.item()"
      ],
      "metadata": {
        "colab": {
          "base_uri": "https://localhost:8080/"
        },
        "id": "YievDnY7KUEh",
        "outputId": "f92f2cfe-b933-4900-e316-761f35c7e96a"
      },
      "execution_count": 4,
      "outputs": [
        {
          "output_type": "execute_result",
          "data": {
            "text/plain": [
              "8"
            ]
          },
          "metadata": {},
          "execution_count": 4
        }
      ]
    },
    {
      "cell_type": "code",
      "source": [
        "vector=torch.tensor([1,2,7,8])\n",
        "\n",
        "vector"
      ],
      "metadata": {
        "colab": {
          "base_uri": "https://localhost:8080/"
        },
        "id": "tR0n8xYPKiJB",
        "outputId": "69beacb2-5b7e-432f-a88a-84a7aa3982ef"
      },
      "execution_count": 5,
      "outputs": [
        {
          "output_type": "execute_result",
          "data": {
            "text/plain": [
              "tensor([1, 2, 7, 8])"
            ]
          },
          "metadata": {},
          "execution_count": 5
        }
      ]
    },
    {
      "cell_type": "code",
      "source": [
        "vector.dim()"
      ],
      "metadata": {
        "colab": {
          "base_uri": "https://localhost:8080/"
        },
        "id": "E6krnNN8Knxl",
        "outputId": "cc26f0b0-dcd6-4748-f967-2bf01c894a63"
      },
      "execution_count": 6,
      "outputs": [
        {
          "output_type": "execute_result",
          "data": {
            "text/plain": [
              "1"
            ]
          },
          "metadata": {},
          "execution_count": 6
        }
      ]
    },
    {
      "cell_type": "code",
      "source": [
        "vector.shape"
      ],
      "metadata": {
        "colab": {
          "base_uri": "https://localhost:8080/"
        },
        "id": "ZwYCQwWqKz5K",
        "outputId": "8e891021-ecfa-45a3-dd6a-3834e31704b4"
      },
      "execution_count": 7,
      "outputs": [
        {
          "output_type": "execute_result",
          "data": {
            "text/plain": [
              "torch.Size([4])"
            ]
          },
          "metadata": {},
          "execution_count": 7
        }
      ]
    },
    {
      "cell_type": "code",
      "source": [
        "matrix_tensor = torch.tensor([[1,2,3],[4,5,6]])\n",
        "matrix_tensor"
      ],
      "metadata": {
        "colab": {
          "base_uri": "https://localhost:8080/"
        },
        "id": "cZqxuYnPK5XG",
        "outputId": "8ba0608d-80f3-4232-d16e-1732ae8b0a27"
      },
      "execution_count": 8,
      "outputs": [
        {
          "output_type": "execute_result",
          "data": {
            "text/plain": [
              "tensor([[1, 2, 3],\n",
              "        [4, 5, 6]])"
            ]
          },
          "metadata": {},
          "execution_count": 8
        }
      ]
    },
    {
      "cell_type": "code",
      "source": [
        "matrix_tensor.shape"
      ],
      "metadata": {
        "colab": {
          "base_uri": "https://localhost:8080/"
        },
        "id": "Zj_GeU1SLDuq",
        "outputId": "8ebb7f3b-f606-4069-8336-ee66a632500f"
      },
      "execution_count": 9,
      "outputs": [
        {
          "output_type": "execute_result",
          "data": {
            "text/plain": [
              "torch.Size([2, 3])"
            ]
          },
          "metadata": {},
          "execution_count": 9
        }
      ]
    },
    {
      "cell_type": "code",
      "source": [
        "matrix_tensor[0]"
      ],
      "metadata": {
        "colab": {
          "base_uri": "https://localhost:8080/"
        },
        "id": "TVDRdoVqLMdn",
        "outputId": "3a5d0f4f-2b1f-4a3f-b7c9-3b25670b3310"
      },
      "execution_count": 10,
      "outputs": [
        {
          "output_type": "execute_result",
          "data": {
            "text/plain": [
              "tensor([1, 2, 3])"
            ]
          },
          "metadata": {},
          "execution_count": 10
        }
      ]
    },
    {
      "cell_type": "code",
      "source": [
        "# random tensors\n",
        "\n",
        "random_tensor = torch.rand(3,4)\n",
        "random_tensor"
      ],
      "metadata": {
        "id": "TVrfqDA0Lh2M",
        "colab": {
          "base_uri": "https://localhost:8080/"
        },
        "outputId": "6b674453-b20d-4e43-e793-7757776d9a09"
      },
      "execution_count": 11,
      "outputs": [
        {
          "output_type": "execute_result",
          "data": {
            "text/plain": [
              "tensor([[0.0286, 0.8445, 0.9133, 0.9177],\n",
              "        [0.2888, 0.9284, 0.2399, 0.9023],\n",
              "        [0.1752, 0.9511, 0.4754, 0.6895]])"
            ]
          },
          "metadata": {},
          "execution_count": 11
        }
      ]
    },
    {
      "cell_type": "code",
      "source": [
        "normal_random_tensor = torch.randn(3,4)\n",
        "normal_random_tensor"
      ],
      "metadata": {
        "colab": {
          "base_uri": "https://localhost:8080/"
        },
        "id": "pUPYhxoDR8o8",
        "outputId": "61765e01-2185-4907-a3d5-19c206e47c93"
      },
      "execution_count": 12,
      "outputs": [
        {
          "output_type": "execute_result",
          "data": {
            "text/plain": [
              "tensor([[-0.0835,  1.8718,  0.3465, -0.5932],\n",
              "        [-0.6418, -1.8164, -0.6834, -0.3300],\n",
              "        [-0.4358, -1.2571,  1.8330,  2.0710]])"
            ]
          },
          "metadata": {},
          "execution_count": 12
        }
      ]
    },
    {
      "cell_type": "code",
      "source": [
        "random_image_size_tensor = torch.rand(size=(224,224,3))\n",
        "random_image_size_tensor.shape, random_image_size_tensor.ndim"
      ],
      "metadata": {
        "colab": {
          "base_uri": "https://localhost:8080/"
        },
        "id": "qtWEFjHWSP_S",
        "outputId": "14f271f1-d25d-49be-c2bd-53d90c62c267"
      },
      "execution_count": 13,
      "outputs": [
        {
          "output_type": "execute_result",
          "data": {
            "text/plain": [
              "(torch.Size([224, 224, 3]), 3)"
            ]
          },
          "metadata": {},
          "execution_count": 13
        }
      ]
    },
    {
      "cell_type": "code",
      "source": [
        "#zero tensors\n",
        "zero_tensor=torch.zeros(size=(3,4))\n",
        "zero_tensor"
      ],
      "metadata": {
        "colab": {
          "base_uri": "https://localhost:8080/"
        },
        "id": "fxBvf-5CS3LP",
        "outputId": "bc9f5044-38d9-4a51-e51d-ec97b64e866c"
      },
      "execution_count": 14,
      "outputs": [
        {
          "output_type": "execute_result",
          "data": {
            "text/plain": [
              "tensor([[0., 0., 0., 0.],\n",
              "        [0., 0., 0., 0.],\n",
              "        [0., 0., 0., 0.]])"
            ]
          },
          "metadata": {},
          "execution_count": 14
        }
      ]
    },
    {
      "cell_type": "code",
      "source": [
        "# ones tensors\n",
        "\n",
        "ones_tensors=torch.ones(size=(3,4))\n",
        "ones_tensors"
      ],
      "metadata": {
        "colab": {
          "base_uri": "https://localhost:8080/"
        },
        "id": "SBCIwHeUTF8S",
        "outputId": "f19d33d7-a7a4-4a48-8edc-42e385558a5d"
      },
      "execution_count": 15,
      "outputs": [
        {
          "output_type": "execute_result",
          "data": {
            "text/plain": [
              "tensor([[1., 1., 1., 1.],\n",
              "        [1., 1., 1., 1.],\n",
              "        [1., 1., 1., 1.]])"
            ]
          },
          "metadata": {},
          "execution_count": 15
        }
      ]
    },
    {
      "cell_type": "code",
      "source": [
        "# checking the data type\n",
        "\n",
        "ones_tensors.dtype"
      ],
      "metadata": {
        "colab": {
          "base_uri": "https://localhost:8080/"
        },
        "id": "a4kYdaZ4TN5X",
        "outputId": "ae5c1c0f-90e4-433d-cc77-f06ec3738df0"
      },
      "execution_count": 16,
      "outputs": [
        {
          "output_type": "execute_result",
          "data": {
            "text/plain": [
              "torch.float32"
            ]
          },
          "metadata": {},
          "execution_count": 16
        }
      ]
    },
    {
      "cell_type": "code",
      "source": [
        "# Creating a range of tensors\n",
        "\n",
        "range_torch = torch.arange(0,10)\n",
        "range_torch"
      ],
      "metadata": {
        "colab": {
          "base_uri": "https://localhost:8080/"
        },
        "id": "iRTmD1duhuee",
        "outputId": "03cbfe47-3371-434d-d711-76aba34498cb"
      },
      "execution_count": 17,
      "outputs": [
        {
          "output_type": "execute_result",
          "data": {
            "text/plain": [
              "tensor([0, 1, 2, 3, 4, 5, 6, 7, 8, 9])"
            ]
          },
          "metadata": {},
          "execution_count": 17
        }
      ]
    },
    {
      "cell_type": "code",
      "source": [
        "# including step\n",
        "\n",
        "step_range_torch = torch.arange(start=0,end=1000,step=77)\n",
        "step_range_torch"
      ],
      "metadata": {
        "colab": {
          "base_uri": "https://localhost:8080/"
        },
        "id": "luTeFEbPiDtq",
        "outputId": "d4111319-4aab-4188-a8cc-1ed9d1446eae"
      },
      "execution_count": 18,
      "outputs": [
        {
          "output_type": "execute_result",
          "data": {
            "text/plain": [
              "tensor([  0,  77, 154, 231, 308, 385, 462, 539, 616, 693, 770, 847, 924])"
            ]
          },
          "metadata": {},
          "execution_count": 18
        }
      ]
    },
    {
      "cell_type": "code",
      "source": [
        "# creating tensors-like\n",
        "\n",
        "tensors_like= torch.zeros_like(input=step_range_torch)\n",
        "tensors_like"
      ],
      "metadata": {
        "id": "ovIAqgoJiUyA",
        "colab": {
          "base_uri": "https://localhost:8080/"
        },
        "outputId": "0c567af6-2620-46fe-c9ed-0dbbea831a85"
      },
      "execution_count": 19,
      "outputs": [
        {
          "output_type": "execute_result",
          "data": {
            "text/plain": [
              "tensor([0, 0, 0, 0, 0, 0, 0, 0, 0, 0, 0, 0, 0])"
            ]
          },
          "metadata": {},
          "execution_count": 19
        }
      ]
    },
    {
      "cell_type": "markdown",
      "source": [
        "### Tensor data types"
      ],
      "metadata": {
        "id": "lB5ApcpVH3_B"
      }
    },
    {
      "cell_type": "markdown",
      "source": [
        "In PyTorch, tensors can have various data types that determine the kind of data they store. These data types are essential for ensuring compatibility and optimizing performance in computations. Here's an overview of the main tensor data types in PyTorch:\n",
        "\n",
        "---\n",
        "\n",
        "### **Numeric Data Types**\n",
        "\n",
        "#### **Floating Point**\n",
        "- **`torch.float32` (`torch.float`)**:\n",
        "  - 32-bit floating-point.\n",
        "  - Commonly used for most neural network computations.\n",
        "- **`torch.float64` (`torch.double`)**:\n",
        "  - 64-bit floating-point.\n",
        "  - Higher precision than `float32` but slower; rarely used in deep learning.\n",
        "- **`torch.float16` (`torch.half`)**:\n",
        "  - 16-bit floating-point.\n",
        "  - Used for mixed precision training to reduce memory usage and accelerate computations on GPUs.\n",
        "\n",
        "#### **Integer**\n",
        "- **`torch.int8`**:\n",
        "  - 8-bit signed integer.\n",
        "  - Often used for quantized models to reduce memory usage.\n",
        "- **`torch.uint8`**:\n",
        "  - 8-bit unsigned integer.\n",
        "  - Suitable for image data (e.g., pixel intensities between 0-255).\n",
        "- **`torch.int16` (`torch.short`)**:\n",
        "  - 16-bit signed integer.\n",
        "- **`torch.int32` (`torch.int`)**:\n",
        "  - 32-bit signed integer.\n",
        "- **`torch.int64` (`torch.long`)**:\n",
        "  - 64-bit signed integer.\n",
        "  - Often used for indexing operations in PyTorch (e.g., in `torch.gather` or `torch.index_select`).\n",
        "\n",
        "#### **Boolean**\n",
        "- **`torch.bool`**:\n",
        "  - Boolean type.\n",
        "  - Used for masks and logical operations.\n",
        "\n",
        "---\n",
        "\n",
        "### **Complex Data Types**\n",
        "- **`torch.complex64`**:\n",
        "  - 64-bit complex number (32 bits for real and imaginary parts).\n",
        "- **`torch.complex128`**:\n",
        "  - 128-bit complex number (64 bits for real and imaginary parts).\n",
        "  - Used for computations involving complex numbers.\n",
        "\n",
        "---\n",
        "\n",
        "### **Quantized Data Types**\n",
        "- **`torch.qint8`**:\n",
        "  - Quantized 8-bit signed integer.\n",
        "- **`torch.quint8`**:\n",
        "  - Quantized 8-bit unsigned integer.\n",
        "- **`torch.qint32`**:\n",
        "  - Quantized 32-bit signed integer.\n",
        "  - Used in quantized models for efficient inference.\n",
        "\n",
        "---\n",
        "\n",
        "### **Specialized Data Types**\n",
        "- **`torch.bfloat16`**:\n",
        "  - Brain floating-point format (16-bit).\n",
        "  - Optimized for faster training while maintaining higher precision compared to `float16`.\n",
        "  - Supported on certain hardware (e.g., TPUs, some GPUs).\n",
        "\n",
        "---\n",
        "\n",
        "### Changing Data Types\n",
        "You can specify or change a tensor's data type using the `dtype` argument or methods like `.to()` or `.type()`:\n",
        "```python\n",
        "import torch\n",
        "\n",
        "# Specifying data type at creation\n",
        "tensor = torch.tensor([1.0, 2.0], dtype=torch.float64)\n",
        "\n",
        "# Changing data type\n",
        "tensor = tensor.to(torch.float32)\n",
        "tensor = tensor.type(torch.int64)\n",
        "```\n",
        "\n",
        "---\n",
        "\n",
        "### Choosing the Right Data Type\n",
        "- **Training Models:** Use `torch.float32` or `torch.float16` for efficient computations.\n",
        "- **Inference/Storage:** Use quantized types (e.g., `torch.qint8`) to save memory and improve speed.\n",
        "- **Indexing:** Use `torch.int64` (`torch.long`).\n",
        "- **Logical Operations:** Use `torch.bool`.\n"
      ],
      "metadata": {
        "id": "-SbGv7AzIq1Z"
      }
    },
    {
      "cell_type": "code",
      "source": [
        "#float_32 tensor- this is the default tensor data type\n",
        "#default device = cpu\n",
        "#requires_grad=False\n",
        "\n",
        "float_32_tensor = torch.tensor([3.0,6.0,9.0],\n",
        "                               dtype=None,\n",
        "                               device=None,\n",
        "                               requires_grad=False)\n",
        "float_32_tensor"
      ],
      "metadata": {
        "colab": {
          "base_uri": "https://localhost:8080/"
        },
        "id": "3m0o1ansHxWI",
        "outputId": "c66845af-ac93-480f-d261-86dceebf0db7"
      },
      "execution_count": 20,
      "outputs": [
        {
          "output_type": "execute_result",
          "data": {
            "text/plain": [
              "tensor([3., 6., 9.])"
            ]
          },
          "metadata": {},
          "execution_count": 20
        }
      ]
    },
    {
      "cell_type": "code",
      "source": [
        "# converting a tensor to a different data type\n",
        "\n",
        "float_16_tensor = float_32_tensor.type(torch.float16)\n",
        "float_16_tensor"
      ],
      "metadata": {
        "colab": {
          "base_uri": "https://localhost:8080/"
        },
        "id": "zObjqUrnJ_qM",
        "outputId": "fbb89145-7999-40a5-c0ad-f152d9a815a3"
      },
      "execution_count": 21,
      "outputs": [
        {
          "output_type": "execute_result",
          "data": {
            "text/plain": [
              "tensor([3., 6., 9.], dtype=torch.float16)"
            ]
          },
          "metadata": {},
          "execution_count": 21
        }
      ]
    },
    {
      "cell_type": "code",
      "source": [
        "# multiplying different data types tensors\n",
        "\n",
        "float_16_tensor * float_32_tensor"
      ],
      "metadata": {
        "colab": {
          "base_uri": "https://localhost:8080/"
        },
        "id": "PVRW-yI0KtEd",
        "outputId": "575be2d4-c51b-4e31-91ba-a94b0cb12859"
      },
      "execution_count": 22,
      "outputs": [
        {
          "output_type": "execute_result",
          "data": {
            "text/plain": [
              "tensor([ 9., 36., 81.])"
            ]
          },
          "metadata": {},
          "execution_count": 22
        }
      ]
    },
    {
      "cell_type": "code",
      "source": [
        "# getting information from tensors\n",
        "float_32_tensor.shape, float_32_tensor.dtype, float_32_tensor.device\n"
      ],
      "metadata": {
        "colab": {
          "base_uri": "https://localhost:8080/"
        },
        "id": "uS00FnOoLNnR",
        "outputId": "a877df33-ec7d-4e22-f759-6c23cacda878"
      },
      "execution_count": 24,
      "outputs": [
        {
          "output_type": "execute_result",
          "data": {
            "text/plain": [
              "(torch.Size([3]), torch.float32, device(type='cpu'))"
            ]
          },
          "metadata": {},
          "execution_count": 24
        }
      ]
    }
  ]
}