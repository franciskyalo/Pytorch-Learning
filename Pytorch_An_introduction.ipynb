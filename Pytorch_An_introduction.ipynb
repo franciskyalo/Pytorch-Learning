{
  "nbformat": 4,
  "nbformat_minor": 0,
  "metadata": {
    "colab": {
      "provenance": [],
      "authorship_tag": "ABX9TyNnaWZ6y4VhkGRvz28yEotI",
      "include_colab_link": true
    },
    "kernelspec": {
      "name": "python3",
      "display_name": "Python 3"
    },
    "language_info": {
      "name": "python"
    }
  },
  "cells": [
    {
      "cell_type": "markdown",
      "metadata": {
        "id": "view-in-github",
        "colab_type": "text"
      },
      "source": [
        "<a href=\"https://colab.research.google.com/github/franciskyalo/Pytorch-Learning/blob/main/Pytorch_An_introduction.ipynb\" target=\"_parent\"><img src=\"https://colab.research.google.com/assets/colab-badge.svg\" alt=\"Open In Colab\"/></a>"
      ]
    },
    {
      "cell_type": "markdown",
      "source": [
        "\n",
        "\n",
        "# An Introduction to Pytorch\n"
      ],
      "metadata": {
        "id": "OoxR__sO_eez"
      }
    },
    {
      "cell_type": "markdown",
      "source": [
        "Introduction to neural networks"
      ],
      "metadata": {
        "id": "uSFgr9ECIELa"
      }
    },
    {
      "cell_type": "code",
      "execution_count": 1,
      "metadata": {
        "id": "UgEEPd6BaN4B",
        "colab": {
          "base_uri": "https://localhost:8080/"
        },
        "outputId": "132e6630-a78a-4cbc-a0f2-62b8e7d2aca0"
      },
      "outputs": [
        {
          "output_type": "stream",
          "name": "stdout",
          "text": [
            "2.5.1+cu121\n"
          ]
        }
      ],
      "source": [
        "import torch\n",
        "import pandas as pd\n",
        "import numpy as np\n",
        "import matplotlib.pyplot as plt\n",
        "print(torch.__version__)"
      ]
    },
    {
      "cell_type": "code",
      "source": [
        "z= torch.zeros(4,3) # creating a tensor with 4 rows and 3 columns\n",
        "\n",
        "print(z)"
      ],
      "metadata": {
        "id": "EiyzBwHrbuyt",
        "colab": {
          "base_uri": "https://localhost:8080/"
        },
        "outputId": "2c478493-9240-44e1-8b95-1fdbd5a97559"
      },
      "execution_count": 2,
      "outputs": [
        {
          "output_type": "stream",
          "name": "stdout",
          "text": [
            "tensor([[0., 0., 0.],\n",
            "        [0., 0., 0.],\n",
            "        [0., 0., 0.],\n",
            "        [0., 0., 0.]])\n"
          ]
        }
      ]
    },
    {
      "cell_type": "code",
      "source": [
        "print(z.dtype) # cheking the data type"
      ],
      "metadata": {
        "colab": {
          "base_uri": "https://localhost:8080/"
        },
        "id": "CBgokDj8_zcU",
        "outputId": "86d44cbc-ddb7-431d-e101-a7904550d9c2"
      },
      "execution_count": null,
      "outputs": [
        {
          "output_type": "stream",
          "name": "stdout",
          "text": [
            "torch.float32\n"
          ]
        }
      ]
    },
    {
      "cell_type": "code",
      "source": [],
      "metadata": {
        "id": "QiqyGM-a_4u5"
      },
      "execution_count": null,
      "outputs": []
    },
    {
      "cell_type": "code",
      "source": [],
      "metadata": {
        "id": "iwDobDOzI0U6"
      },
      "execution_count": null,
      "outputs": []
    }
  ]
}